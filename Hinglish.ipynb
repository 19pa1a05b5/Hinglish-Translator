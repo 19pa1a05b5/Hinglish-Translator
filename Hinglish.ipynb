{
  "nbformat": 4,
  "nbformat_minor": 0,
  "metadata": {
    "colab": {
      "name": "Hinglish.ipynb",
      "provenance": [],
      "authorship_tag": "ABX9TyMa+WExuItjKFyyANef2pNq",
      "include_colab_link": true
    },
    "kernelspec": {
      "name": "python3",
      "display_name": "Python 3"
    },
    "language_info": {
      "name": "python"
    }
  },
  "cells": [
    {
      "cell_type": "markdown",
      "metadata": {
        "id": "view-in-github",
        "colab_type": "text"
      },
      "source": [
        "<a href=\"https://colab.research.google.com/github/19pa1a05b5/Hinglish-Translator/blob/main/Hinglish.ipynb\" target=\"_parent\"><img src=\"https://colab.research.google.com/assets/colab-badge.svg\" alt=\"Open In Colab\"/></a>"
      ]
    },
    {
      "cell_type": "markdown",
      "source": [
        "# **Importing the required packages.**"
      ],
      "metadata": {
        "id": "1orSqs_HLwTg"
      }
    },
    {
      "cell_type": "code",
      "metadata": {
        "id": "zjutinkNeqvf"
      },
      "source": [
        "import pandas as pd\n",
        "import re\n",
        "import nltk"
      ],
      "execution_count": 1,
      "outputs": []
    },
    {
      "cell_type": "markdown",
      "source": [
        "# **Uploading the dataset.**"
      ],
      "metadata": {
        "id": "IHABtWqZL87L"
      }
    },
    {
      "cell_type": "code",
      "metadata": {
        "id": "53wg41vuhaoL"
      },
      "source": [
        "data_set = pd.read_csv(\"/content/English-Hindi code-mixed parallel corpus.csv\")"
      ],
      "execution_count": 4,
      "outputs": []
    },
    {
      "cell_type": "markdown",
      "source": [
        ""
      ],
      "metadata": {
        "id": "yxgVW9OsMmnn"
      }
    },
    {
      "cell_type": "code",
      "metadata": {
        "colab": {
          "base_uri": "https://localhost:8080/",
          "height": 204
        },
        "id": "wPP7OHyUur3N",
        "outputId": "1f4e8ec3-01b4-406a-f30c-05eb25a45345"
      },
      "source": [
        "data_set.head()"
      ],
      "execution_count": null,
      "outputs": [
        {
          "output_type": "execute_result",
          "data": {
            "text/html": [
              "<div>\n",
              "<style scoped>\n",
              "    .dataframe tbody tr th:only-of-type {\n",
              "        vertical-align: middle;\n",
              "    }\n",
              "\n",
              "    .dataframe tbody tr th {\n",
              "        vertical-align: top;\n",
              "    }\n",
              "\n",
              "    .dataframe thead th {\n",
              "        text-align: right;\n",
              "    }\n",
              "</style>\n",
              "<table border=\"1\" class=\"dataframe\">\n",
              "  <thead>\n",
              "    <tr style=\"text-align: right;\">\n",
              "      <th></th>\n",
              "      <th>Sentence</th>\n",
              "      <th>English_Translation</th>\n",
              "    </tr>\n",
              "  </thead>\n",
              "  <tbody>\n",
              "    <tr>\n",
              "      <th>0</th>\n",
              "      <td>@someUSER congratulations on you celebrating b...</td>\n",
              "      <td>@some users congratulate you for celebrating B...</td>\n",
              "    </tr>\n",
              "    <tr>\n",
              "      <th>1</th>\n",
              "      <td>@LoKarDi_RT uske liye toh bahot kuch karna pad...</td>\n",
              "      <td>@Lokardi_ rat we should a lot more for that, b...</td>\n",
              "    </tr>\n",
              "    <tr>\n",
              "      <th>2</th>\n",
              "      <td>@slimswamy yehi to hum semjhane ki koshish kar...</td>\n",
              "      <td>@Slimswami ehi, this is what i'm expecting you...</td>\n",
              "    </tr>\n",
              "    <tr>\n",
              "      <th>3</th>\n",
              "      <td>@DramebaazKudi cake kaha hai ??</td>\n",
              "      <td>@Where is Dramebajakudi where is the cake?</td>\n",
              "    </tr>\n",
              "    <tr>\n",
              "      <th>4</th>\n",
              "      <td>@someUSER i'm in hawaii at the moment .  home ...</td>\n",
              "      <td>@some user Don't want to come home next friday...</td>\n",
              "    </tr>\n",
              "  </tbody>\n",
              "</table>\n",
              "</div>"
            ],
            "text/plain": [
              "                                            Sentence                                English_Translation\n",
              "0  @someUSER congratulations on you celebrating b...  @some users congratulate you for celebrating B...\n",
              "1  @LoKarDi_RT uske liye toh bahot kuch karna pad...  @Lokardi_ rat we should a lot more for that, b...\n",
              "2  @slimswamy yehi to hum semjhane ki koshish kar...  @Slimswami ehi, this is what i'm expecting you...\n",
              "3                    @DramebaazKudi cake kaha hai ??         @Where is Dramebajakudi where is the cake?\n",
              "4  @someUSER i'm in hawaii at the moment .  home ...  @some user Don't want to come home next friday..."
            ]
          },
          "metadata": {},
          "execution_count": 71
        }
      ]
    },
    {
      "cell_type": "code",
      "metadata": {
        "colab": {
          "base_uri": "https://localhost:8080/",
          "height": 37
        },
        "id": "PQ0cHHI_huyo",
        "outputId": "94943849-9770-4f6c-9497-fe4545e430d4"
      },
      "source": [
        "for i in range(len(data_set['Sentence'])):\n",
        "  data_set['Sentence'][i] = re.sub(\"@[A-Za-z0-9]+\",\"\",data_set['Sentence'][i])\n",
        "  data_set['Sentence'][i] = re.sub(r\"(?:\\@|http?\\://|https?\\://|www)\\S+\", \"\", data_set['Sentence'][i])\n",
        "  data_set['Sentence'][i] = re.sub(\"#*[A-Za-z0-9]\",\"\",data_set['Sentence'][i])\n",
        "data_set['Sentence'][1] "
      ],
      "execution_count": 5,
      "outputs": [
        {
          "output_type": "execute_result",
          "data": {
            "application/vnd.google.colaboratory.intrinsic+json": {
              "type": "string"
            },
            "text/plain": [
              "'_              '"
            ]
          },
          "metadata": {},
          "execution_count": 5
        }
      ]
    },
    {
      "cell_type": "code",
      "metadata": {
        "colab": {
          "base_uri": "https://localhost:8080/",
          "height": 37
        },
        "id": "YFACMDpTxqYJ",
        "outputId": "106b1bd8-02e6-4ce0-cb82-83527fa5e8b4"
      },
      "source": [
        "data_set['Sentence'][1] "
      ],
      "execution_count": 6,
      "outputs": [
        {
          "output_type": "execute_result",
          "data": {
            "application/vnd.google.colaboratory.intrinsic+json": {
              "type": "string"
            },
            "text/plain": [
              "'_              '"
            ]
          },
          "metadata": {},
          "execution_count": 6
        }
      ]
    }
  ]
}